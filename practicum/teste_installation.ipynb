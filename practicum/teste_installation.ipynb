{
 "cells": [
  {
   "cell_type": "markdown",
   "metadata": {},
   "source": [
    "# Confirmer l'installation de python"
   ]
  },
  {
   "cell_type": "markdown",
   "metadata": {},
   "source": [
    "Le seul but de ce notebook est de vous permettre de confirmer la bonne installation de python.  Les exercises étaient testées avec python 2.7.12 et ipython 5.1.0.  Il y a toute raison à croire que n'importe quelle version de python 2.7 suffirait.\n",
    "\n",
    "Le plus facile est simplement d'executer le notebook entier : \"cell -> run all\" (avec possiblité selon votre installation que ce soit en français).  Puis scanner ce notebook pour voir s'il y a des erreurs qui indiquent une module manquante."
   ]
  },
  {
   "cell_type": "markdown",
   "metadata": {},
   "source": [
    "Les modules suivants doivent être installées automatiquement avec python."
   ]
  },
  {
   "cell_type": "code",
   "execution_count": null,
   "metadata": {
    "collapsed": true
   },
   "outputs": [],
   "source": [
    "import logging\n",
    "import time"
   ]
  },
  {
   "cell_type": "markdown",
   "metadata": {},
   "source": [
    "Les modules suivants vous avez installées avec pip à partir de `requirements.txt`.  Ou bien vous avez installé anaconda (Mac ou Windows), et dans ce cas toutes les modules sont incluses."
   ]
  },
  {
   "cell_type": "code",
   "execution_count": null,
   "metadata": {
    "collapsed": true
   },
   "outputs": [],
   "source": [
    "import numpy as np\n",
    "import scipy.stats as ss\n",
    "import matplotlib.pyplot as plt\n",
    "import sklearn\n",
    "import pandas as pd\n",
    "from sklearn import datasets\n",
    "from sklearn import svm\n",
    "import pylab as pl\n",
    "from matplotlib.colors import ListedColormap\n",
    "import sklearn as sk\n",
    "from sklearn.feature_extraction.text import TfidfVectorizer\n",
    "from sklearn.linear_model.logistic import LogisticRegression\n",
    "import matplotlib.font_manager\n",
    "\n",
    "import matplotlib\n",
    "\n",
    "%matplotlib inline"
   ]
  },
  {
   "cell_type": "markdown",
   "metadata": {},
   "source": [
    "L'installation de TensorFlow se fait différemment : il faut suivre la mode d'emploi [ici](https://www.tensorflow.org/versions/r0.11/get_started/os_setup.html)."
   ]
  },
  {
   "cell_type": "code",
   "execution_count": null,
   "metadata": {
    "collapsed": true
   },
   "outputs": [],
   "source": [
    "import tensorflow"
   ]
  },
  {
   "cell_type": "markdown",
   "metadata": {},
   "source": [
    "Et puis, pour tester le point le plus difficile, nous allons dessiner un parabole.  Vous devez voir un parabole ci-dessous."
   ]
  },
  {
   "cell_type": "code",
   "execution_count": null,
   "metadata": {
    "collapsed": false
   },
   "outputs": [],
   "source": [
    "x = np.linspace(-100, 100, 201)\n",
    "plt.plot(x, x * x)"
   ]
  }
 ],
 "metadata": {
  "kernelspec": {
   "display_name": "Python 2",
   "language": "python",
   "name": "python2"
  },
  "language_info": {
   "codemirror_mode": {
    "name": "ipython",
    "version": 2
   },
   "file_extension": ".py",
   "mimetype": "text/x-python",
   "name": "python",
   "nbconvert_exporter": "python",
   "pygments_lexer": "ipython2",
   "version": "2.7.12"
  }
 },
 "nbformat": 4,
 "nbformat_minor": 1
}
