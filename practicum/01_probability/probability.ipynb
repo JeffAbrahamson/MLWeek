{
 "cells": [
  {
   "cell_type": "markdown",
   "metadata": {},
   "source": [
    "Un ipython notebook garde ses résultats depuis la dernière fois, mais pas son état.  Il convient donc re-exécuter depuis le début.  Et/ou d'effacer les résultats de la session avant sauvegarde."
   ]
  },
  {
   "cell_type": "code",
   "execution_count": null,
   "metadata": {
    "collapsed": false
   },
   "outputs": [],
   "source": [
    "import numpy as np\n",
    "import scipy.stats as ss\n",
    "import matplotlib.pyplot as plt\n",
    "import sklearn\n",
    "import pandas as pd\n",
    "\n",
    "%matplotlib inline"
   ]
  },
  {
   "cell_type": "markdown",
   "metadata": {},
   "source": [
    "Explorez :\n",
    "* découvrir la documentation pour une fonction avec `fonction?`\n",
    "* ajouter des cellules pour les exercices"
   ]
  },
  {
   "cell_type": "code",
   "execution_count": null,
   "metadata": {
    "collapsed": false
   },
   "outputs": [],
   "source": [
    "x = np.linspace(-100, 100, 201)\n",
    "plt.plot(x, x * x)"
   ]
  },
  {
   "cell_type": "markdown",
   "metadata": {},
   "source": [
    "# Example of sampling from a probability distribution.\n",
    "\n",
    "Noter qu'on utilise le ppf (percent point function) = l'inverse de la pdf.  C'est peut-être notre usage le plus typique de la ppf."
   ]
  },
  {
   "cell_type": "code",
   "execution_count": null,
   "metadata": {
    "collapsed": false
   },
   "outputs": [],
   "source": [
    "x = np.linspace(ss.norm.ppf(.01), ss.norm.ppf(.99), 100)\n",
    "plt.plot(x, ss.norm.pdf(x))\n",
    "plt.show()"
   ]
  },
  {
   "cell_type": "markdown",
   "metadata": {},
   "source": [
    "# Running mean example\n",
    "\n",
    "D'abord nous générons un échantillon aléatoire.  Puis nous calculons la somme et la visualisons.\n",
    "\n",
    "Questions :\n",
    "* Qu'est-ce qui se passe si on change `num_points`?\n",
    "* Qu'est-ce qui est la différence entre les deux courbes?"
   ]
  },
  {
   "cell_type": "code",
   "execution_count": null,
   "metadata": {
    "collapsed": false
   },
   "outputs": [],
   "source": [
    "num_points = 100\n",
    "index = np.linspace(1, num_points, num_points)\n",
    "sample = [ss.norm.rvs() for x in range(num_points)]\n",
    "plt.plot(index, np.cumsum(sample))\n",
    "plt.plot(index, [x / (i + 1) for i, x in enumerate(sample)])"
   ]
  },
  {
   "cell_type": "code",
   "execution_count": null,
   "metadata": {
    "collapsed": true
   },
   "outputs": [],
   "source": []
  }
 ],
 "metadata": {
  "kernelspec": {
   "display_name": "Python 2",
   "language": "python",
   "name": "python2"
  },
  "language_info": {
   "codemirror_mode": {
    "name": "ipython",
    "version": 2
   },
   "file_extension": ".py",
   "mimetype": "text/x-python",
   "name": "python",
   "nbconvert_exporter": "python",
   "pygments_lexer": "ipython2",
   "version": "2.7.12"
  }
 },
 "nbformat": 4,
 "nbformat_minor": 0
}
